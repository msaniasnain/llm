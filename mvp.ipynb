{
 "cells": [
  {
   "cell_type": "markdown",
   "metadata": {},
   "source": [
    "# **RAG based LLM application to translate legal documents from legal language to plain and simple English language.**"
   ]
  },
  {
   "cell_type": "markdown",
   "metadata": {},
   "source": [
    "## Importing LangChain, Google BigQuery, Vertex AI for Gemini and Python libraries"
   ]
  },
  {
   "cell_type": "code",
   "execution_count": 9,
   "metadata": {},
   "outputs": [],
   "source": [
    "from langchain.text_splitter import RecursiveCharacterTextSplitter\n",
    "from langchain_community.document_loaders import PyPDFLoader\n",
    "from langchain_google_vertexai import VertexAIEmbeddings\n",
    "from langchain.vectorstores.utils import DistanceStrategy\n",
    "from langchain_community.vectorstores import BigQueryVectorSearch\n",
    "\n",
    "from google.cloud import bigquery\n",
    "from vertexai.preview.generative_models import GenerativeModel\n",
    "\n",
    "import re"
   ]
  },
  {
   "cell_type": "markdown",
   "metadata": {},
   "source": [
    "## Reading the Ontario Rental Act for Tenants, 2006 PDF version"
   ]
  },
  {
   "cell_type": "code",
   "execution_count": 10,
   "metadata": {},
   "outputs": [],
   "source": [
    "loader = PyPDFLoader('ontario_rent_act.pdf')\n",
    "docs = loader.load_and_split()"
   ]
  },
  {
   "cell_type": "markdown",
   "metadata": {},
   "source": [
    "### Number of pages in the document"
   ]
  },
  {
   "cell_type": "code",
   "execution_count": 11,
   "metadata": {},
   "outputs": [
    {
     "data": {
      "text/plain": [
       "158"
      ]
     },
     "execution_count": 11,
     "metadata": {},
     "output_type": "execute_result"
    }
   ],
   "source": [
    "len(docs)"
   ]
  },
  {
   "cell_type": "markdown",
   "metadata": {},
   "source": [
    "This text splitter is the recommended one for generic text. It is parameterized by a list of characters. It tries to split on them in order until the chunks are small enough. The default list is [\"\\n\\n\", \"\\n\", \" \", \"\"]. This has the effect of trying to keep all paragraphs (and then sentences, and then words) together as long as possible, as those would generically seem to be the strongest semantically related pieces of text."
   ]
  },
  {
   "cell_type": "code",
   "execution_count": 12,
   "metadata": {},
   "outputs": [],
   "source": [
    "text_splitter = RecursiveCharacterTextSplitter(\n",
    "    # Set a really small chunk size, just to show.\n",
    "    chunk_size = 1000,\n",
    "    chunk_overlap  = 10,\n",
    "    length_function = len,\n",
    "    is_separator_regex = False,\n",
    ")"
   ]
  },
  {
   "cell_type": "code",
   "execution_count": 13,
   "metadata": {},
   "outputs": [],
   "source": [
    "texts = text_splitter.create_documents([each.page_content for each in docs])"
   ]
  },
  {
   "cell_type": "markdown",
   "metadata": {},
   "source": [
    "### As expected number of chunks (585) is more than number of pages (158)"
   ]
  },
  {
   "cell_type": "code",
   "execution_count": 14,
   "metadata": {},
   "outputs": [
    {
     "data": {
      "text/plain": [
       "585"
      ]
     },
     "execution_count": 14,
     "metadata": {},
     "output_type": "execute_result"
    }
   ],
   "source": [
    "len(texts)"
   ]
  },
  {
   "cell_type": "markdown",
   "metadata": {},
   "source": [
    "## Preparing data to make embeddings/vectors and store them in BigQuery table utilising BigQuery's new capability of Vector Search."
   ]
  },
  {
   "cell_type": "code",
   "execution_count": 15,
   "metadata": {},
   "outputs": [],
   "source": [
    "REGION = \"US\" \n",
    "DATASET = \"vector_db\"\n",
    "TABLE = \"on_vector_tbl\"\n",
    "PROJECT_ID = \"image-genai\"\n"
   ]
  },
  {
   "cell_type": "markdown",
   "metadata": {},
   "source": [
    "### Using Vertex AI's text embedding model which creates vectors of about 768 dimensions. This is lesser than that of OpenAI's model but good enough for a POC."
   ]
  },
  {
   "cell_type": "code",
   "execution_count": 16,
   "metadata": {},
   "outputs": [],
   "source": [
    "embedding = VertexAIEmbeddings(\n",
    "    model_name=\"textembedding-gecko@latest\", project=PROJECT_ID\n",
    ")"
   ]
  },
  {
   "cell_type": "markdown",
   "metadata": {},
   "source": [
    "### Initialise BigQuery client and create dataset if it does not exist."
   ]
  },
  {
   "cell_type": "code",
   "execution_count": 17,
   "metadata": {},
   "outputs": [
    {
     "data": {
      "text/plain": [
       "Dataset(DatasetReference('image-genai', 'vector_db'))"
      ]
     },
     "execution_count": 17,
     "metadata": {},
     "output_type": "execute_result"
    }
   ],
   "source": [
    "client = bigquery.Client(project=PROJECT_ID, location=REGION)\n",
    "client.create_dataset(dataset=DATASET, exists_ok=True)"
   ]
  },
  {
   "cell_type": "markdown",
   "metadata": {},
   "source": [
    "### We are using LangChain's BigQuery Vector search module."
   ]
  },
  {
   "cell_type": "code",
   "execution_count": 18,
   "metadata": {},
   "outputs": [],
   "source": [
    "store = BigQueryVectorSearch(\n",
    "    project_id=PROJECT_ID,\n",
    "    dataset_name=DATASET,\n",
    "    table_name=TABLE,\n",
    "    location=REGION,\n",
    "    embedding=embedding,\n",
    "    distance_strategy=DistanceStrategy.COSINE,\n",
    ")"
   ]
  },
  {
   "cell_type": "markdown",
   "metadata": {},
   "source": [
    "### Creating word embeddings and storing them in a BigQuery table."
   ]
  },
  {
   "cell_type": "code",
   "execution_count": 19,
   "metadata": {},
   "outputs": [
    {
     "name": "stdout",
     "output_type": "stream",
     "text": [
      "585\n"
     ]
    }
   ],
   "source": [
    "data = [t.page_content for t in texts]\n",
    "metadatas = [{\"len\": len(t.page_content)} for t in texts]\n",
    "\n",
    "ids = store.add_texts(data, metadatas=metadatas)\n",
    "\n",
    "print(len(ids))"
   ]
  },
  {
   "cell_type": "markdown",
   "metadata": {},
   "source": [
    "### We use cosine similarity to get most similar vectors against a query, the query also is embedded using the same embedding model."
   ]
  },
  {
   "cell_type": "code",
   "execution_count": 20,
   "metadata": {},
   "outputs": [
    {
     "name": "stdout",
     "output_type": "stream",
     "text": [
      "[Document(page_content='Provisions conflicting with Act void  \\n4 (1)  Subject to subsection 12.1 (11) and section 194 , a provision in a tenancy agreement that is inconsistent with this Act or \\nthe regul ations is void.  2006, c.  17, s.  4; 2017, c. 13, s. 1.  \\nSame, Part V.1  \\n(2)  Subject to section 194 , in any proceeding under Part V.1, a provision in an occupancy agreement in respect of a me mber \\nunit or a provision in a by -law of a non -profit housing co -operative that is inconsistent with Part V.1, or with a provision in \\nanother Part of this Act that applies to non -profit housing co -operatives and member units, does not apply, and the prov ision \\nin this Act applies.  2013, c.  3, s. 23.  \\nSection Amendments with date in force  (d/m/y)  \\n2013, c. 3, s. 23  - 01/06/2014  \\n2017, c. 13, s. 1  - 30/05/2017  \\nExemptions from Act  \\n5 This Act does not apply with respect to,  \\n (a) living accommodation intended to be provided to the travelling or vacationing public or occupied for a seasonal or', metadata={'len': 992, '__id': '462e207bf39444ea8d7b0aa82fa1adbd'}), Document(page_content='198 (1)  Despite the Statutory Powers Procedure Act , the Board may direct that two or more applications be joined or heard \\ntogether if the Board believes it would be fair to determine the issues raised by them together.  2006, c.  17, s.  198 (1). \\nApplications severed  \\n(2)  The Board may order that applications that have been joined be severed or that applications that had been ordered to be \\nheard together be heard separately.  2006, c.  17, s.  198 (2). \\nApplication severed  \\n199 The Board may order that an application be severed and each severed part dealt with as though it were a separate \\napplication under this Act if,  \\n (a) two or more applications are combined under se ction 186 in the application;  \\n (b) the application is made by more than one tenant under subsection 186 (2); or', metadata={'len': 803, '__id': '63f7bad7d16e42c2a56286bc28853789'}), Document(page_content='Same  \\n(2)  A regulation made under subsection (1) may govern the application of provisions of this Act to proceedings before a \\ncourt or the Board in which a claim is made relating to amendments to this Act made by Schedule 7 to the Helping Tenants', metadata={'len': 249, '__id': 'b8d34d1468224be9b0cd8e7433beb598'})]\n"
     ]
    }
   ],
   "source": [
    "query = \"Where is act being applied?\"\n",
    "query_vector = embedding.embed_query(query)\n",
    "docs = store.similarity_search_by_vector(query_vector, k=3)\n",
    "print(docs)"
   ]
  },
  {
   "cell_type": "markdown",
   "metadata": {},
   "source": [
    "## Preparing prompt for LLM"
   ]
  },
  {
   "cell_type": "code",
   "execution_count": 21,
   "metadata": {},
   "outputs": [],
   "source": [
    "def augment_prompt(query: str):\n",
    "    query_vector = embedding.embed_query(query)\n",
    "    # get top 3 results from knowledge base\n",
    "    results = store.similarity_search_by_vector(query_vector, k=3)\n",
    "    # get the text from the results\n",
    "    source_knowledge = \"\\n\".join([x.page_content for x in results])\n",
    "    # feed into an augmented prompt\n",
    "    augmented_prompt = f\"\"\"Using the contexts below, answer the question in detail.\n",
    "\n",
    "    Contexts:\n",
    "    {source_knowledge}\n",
    "\n",
    "    Query: {query}\"\"\"\n",
    "    return augmented_prompt"
   ]
  },
  {
   "cell_type": "markdown",
   "metadata": {},
   "source": [
    "## We are using Google's LLM - Gemini"
   ]
  },
  {
   "cell_type": "code",
   "execution_count": 22,
   "metadata": {},
   "outputs": [],
   "source": [
    "def generate(query):\n",
    "    prompt = augment_prompt(query)\n",
    "    model = GenerativeModel(\"gemini-1.0-pro-vision-001\")\n",
    "    responses = model.generate_content(\n",
    "        prompt,\n",
    "        generation_config={\n",
    "            \"max_output_tokens\": 2048,\n",
    "            \"temperature\": 0.7,\n",
    "            \"top_p\": 1\n",
    "        },\n",
    "        stream=False,\n",
    "    )\n",
    "\n",
    "    res = []\n",
    "    print(responses.text)\n",
    "\n",
    "    # for response in responses:\n",
    "    #     print(response)\n",
    "    #     # print(response.text, end=\"\")"
   ]
  },
  {
   "cell_type": "markdown",
   "metadata": {},
   "source": [
    "### Testing"
   ]
  },
  {
   "cell_type": "code",
   "execution_count": 23,
   "metadata": {},
   "outputs": [
    {
     "name": "stdout",
     "output_type": "stream",
     "text": [
      "The Act applies to all tenancy agreements, occupancy agreements in respect of a member unit, and by-laws of a non-profit housing co-operative, except for living accommodation intended to be provided to the travelling or vacationing public or occupied for a seasonal or transient purpose.\n"
     ]
    }
   ],
   "source": [
    "generate(\"Where is act being applied?\")"
   ]
  },
  {
   "cell_type": "code",
   "execution_count": 28,
   "metadata": {},
   "outputs": [
    {
     "name": "stdout",
     "output_type": "stream",
     "text": [
      "This act is about the regulation of residential tenancies in Ontario, Canada. It outlines the rights and responsibilities of landlords and tenants, including the selection of prospective tenants, the provision of information by landlords, the terms of tenancy agreements, and the resolution of disputes. The act also provides for exemptions from certain provisions for certain types of housing, such as social housing and non-profit housing co-operatives.\n"
     ]
    }
   ],
   "source": [
    "generate(\"What is this act about?\")"
   ]
  },
  {
   "cell_type": "code",
   "execution_count": 25,
   "metadata": {},
   "outputs": [
    {
     "name": "stdout",
     "output_type": "stream",
     "text": [
      "Based on the provided contexts, it seems that the Residential Tenancies Act, 2006 aims to protect the rights of tenants. The provisions mentioned in the contexts, such as compensation for increased rent and moving expenses, and the onus being on the landlord to prove that certain subsections apply, suggest that the act is designed to benefit tenants.\n"
     ]
    }
   ],
   "source": [
    "generate(\"Who seems to be benefitting from this act, landlord or the tenants?\")"
   ]
  },
  {
   "cell_type": "code",
   "execution_count": 30,
   "metadata": {},
   "outputs": [
    {
     "name": "stdout",
     "output_type": "stream",
     "text": [
      "**Key Rights to Protect Yourself as a Tenant:**\n",
      "\n",
      "* **Landlord's Responsibility to Repair:** Landlords are obligated to maintain the rental unit in a habitable condition, including repairs for issues such as plumbing, heating, and electrical systems. (Section 20)\n",
      "\n",
      "* **Landlord's Responsibility Re Services:** Landlords must provide essential services such as water, heat, and electricity. (Section 21)\n",
      "\n",
      "* **Landlord Not to Interfere with Reasonable Enjoyment:** Landlords cannot unreasonably interfere with your quiet enjoyment of the rental unit, including prohibiting you from having guests or pets without reasonable justification. (Section 22)\n",
      "\n",
      "* **Landlord Not to Harass, Etc.:** Landlords are prohibited from engaging in harassment, obstruction, coercion, or intimidation against tenants. (Section 23)\n",
      "\n",
      "* **Changing Locks:** Landlords cannot change locks on the rental unit without giving you notice and a key. (Section 24)\n",
      "\n",
      "* **Privacy:** Landlords cannot enter the rental unit without your consent, except in emergency situations or with reasonable notice. (Sections 25-27)\n",
      "\n",
      "* **Entry by Canvassers:** Landlords cannot allow canvassers or other unauthorized individuals to enter the rental unit without your permission. (Section 28)\n",
      "\n",
      "* **Tenant Applications:** Tenants have the right to apply to the Landlord and Tenant Board for orders to address landlord breaches of obligations, withholding of services, interference with reasonable enjoyment, or harassment. (Section 29)\n"
     ]
    }
   ],
   "source": [
    "generate(\"What are some key rights which with I can protect myself as a tenant\")"
   ]
  },
  {
   "cell_type": "code",
   "execution_count": 27,
   "metadata": {},
   "outputs": [],
   "source": [
    "query = \"\"\"Explain the below clause from my rental agreement\n",
    "\n",
    "The tenant may assign or sublet the residential premises to another person with the consent of the landlord. A new\n",
    "tenant must assume all of the rights and duties under the existing tenancy agreement, at the same rent. The landlord\n",
    "must not charge a fee or receive a benefit, directly or indirectly, for giving this consent.\n",
    "If a landlord unreasonably withholds consent to assign or sublet or charges a fee, the tenant may apply to the Ontario\n",
    "Rent Tribunal for arbitration.\"\"\""
   ]
  },
  {
   "cell_type": "code",
   "execution_count": 31,
   "metadata": {},
   "outputs": [
    {
     "name": "stdout",
     "output_type": "stream",
     "text": [
      "The clause in your rental agreement is similar to the provisions outlined in the Residential Tenancies Act, 2006. Here's an explanation of the clause:\n",
      "\n",
      "**Tenant's Right to Assign or Sublet:**\n",
      "- The tenant has the right to assign (transfer) or sublet (rent out a portion of) the residential premises to another person.\n",
      "\n",
      "**Landlord's Consent:**\n",
      "- The tenant must obtain the landlord's consent before assigning or subletting the premises.\n",
      "\n",
      "**Landlord's Obligations:**\n",
      "- If the landlord consents to the assignment or sublet, the new tenant (assignee or subtenant) must assume all the rights and duties under the existing tenancy agreement.\n",
      "- The landlord cannot charge a fee or receive any benefit, directly or indirectly, for giving this consent.\n",
      "\n",
      "**Unreasonable Withholding of Consent:**\n",
      "- The landlord cannot arbitrarily or unreasonably refuse consent to the assignment or sublet.\n",
      "- If the landlord unreasonably withholds consent, the tenant can apply to the Ontario Rent Tribunal for arbitration.\n",
      "\n",
      "**Consequences of Unreasonable Withholding:**\n",
      "- If the Ontario Rent Tribunal determines that the landlord unreasonably withheld consent, the tenant may be entitled to compensation or other remedies.\n",
      "\n",
      "**Additional Information:**\n",
      "- The new tenant must pay the same rent as the current tenant.\n",
      "- The existing tenancy agreement remains in effect, with the new tenant assuming the rights and duties of the original tenant.\n",
      "\n",
      "In summary, this clause gives tenants the right to assign or sublet their premises with the landlord's consent, but the landlord cannot unreasonably withhold consent or charge a fee for it. If the landlord does so, the tenant can seek recourse through the Ontario Rent Tribunal.\n"
     ]
    }
   ],
   "source": [
    "generate(query)"
   ]
  },
  {
   "cell_type": "code",
   "execution_count": 32,
   "metadata": {},
   "outputs": [],
   "source": [
    "query = '''Explain the clause below from my rental agreement\n",
    "\n",
    "(a) Landlord’s Duties:\n",
    "The landlord must provide and maintain the residential premises and residential property in a reasonable state of\n",
    "decoration and repair, making the residential premises and the residential property suitable for occupation by a\n",
    "reasonable tenant. The landlord must comply with health, safety, and housing standards required by law.\n",
    "If the landlord is required to make a repair to comply with the above duties, the tenant may discuss it with the\n",
    "landlord. If the landlord refuses to make the repair, the tenant may apply to the Ontario Rent Tribunal for the\n",
    "completion and costs of the repair.\n",
    "'''"
   ]
  },
  {
   "cell_type": "code",
   "execution_count": 33,
   "metadata": {},
   "outputs": [
    {
     "name": "stdout",
     "output_type": "stream",
     "text": [
      "**The clause you provided is similar to the landlord's responsibility to repair under section 20(1) of the Residential Tenancies Act, 2006 (RTA).**\n",
      "\n",
      "**Here's an explanation of the clause and how it relates to the RTA:**\n",
      "\n",
      "* **Landlord's Duties:** The landlord is responsible for providing and maintaining the residential premises and residential property in a reasonable state of decoration and repair. This means that the landlord must ensure that the rental unit is in a habitable condition and meets certain standards of cleanliness and repair.\n",
      "\n",
      "* **Suitable for Occupation:** The landlord must make the residential premises and the residential property suitable for occupation by a reasonable tenant. This means that the rental unit must be in a condition that a reasonable person would find acceptable to live in.\n",
      "\n",
      "* **Compliance with Standards:** The landlord must comply with health, safety, and housing standards required by law. This includes compliance with building codes, fire safety regulations, and other applicable laws.\n",
      "\n",
      "* **Tenant's Options:** If the landlord fails to make a necessary repair, the tenant may discuss the issue with the landlord. If the landlord refuses to make the repair, the tenant may apply to the Ontario Rent Tribunal (ORT) for an order requiring the landlord to complete the repair and pay the costs.\n",
      "\n",
      "**The ORT has the authority to order the landlord to do the following:**\n",
      "\n",
      "* Abate rent (reduce the rent)\n",
      "* Authorize a repair or replacement\n",
      "* Order the landlord to make specific repairs or replacements within a specified time\n",
      "* Order the landlord to pay the tenant for reasonable costs incurred in repairing or replacing damaged property\n",
      "* Order the landlord to pay the tenant for other reasonable out-of-pocket expenses incurred as a result of the landlord's breach\n",
      "\n",
      "**It's important to note that the landlord's duty to repair is not absolute. The landlord is not responsible for repairs that are caused by the tenant's negligence or misuse of the property.**\n"
     ]
    }
   ],
   "source": [
    "generate(query)"
   ]
  }
 ],
 "metadata": {
  "kernelspec": {
   "display_name": "Python 3",
   "language": "python",
   "name": "python3"
  },
  "language_info": {
   "codemirror_mode": {
    "name": "ipython",
    "version": 3
   },
   "file_extension": ".py",
   "mimetype": "text/x-python",
   "name": "python",
   "nbconvert_exporter": "python",
   "pygments_lexer": "ipython3",
   "version": "3.10.0"
  }
 },
 "nbformat": 4,
 "nbformat_minor": 2
}
