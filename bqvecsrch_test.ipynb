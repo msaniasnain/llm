{
 "cells": [
  {
   "cell_type": "code",
   "execution_count": 1,
   "id": "15620c88-cae6-4316-8723-01b37ccd05c6",
   "metadata": {},
   "outputs": [],
   "source": [
    "# @title Region { display-mode: \"form\" }\n",
    "REGION = \"US\"  # @param {type: \"string\"}"
   ]
  },
  {
   "cell_type": "code",
   "execution_count": 2,
   "id": "e2146647-5970-4eca-a6f2-3688af05b116",
   "metadata": {},
   "outputs": [],
   "source": [
    "# @title Dataset and Table { display-mode: \"form\" }\n",
    "DATASET = \"my_langchain_dataset\"  # @param {type: \"string\"}\n",
    "TABLE = \"doc_and_vectors\"  # @param {type: \"string\"}"
   ]
  },
  {
   "cell_type": "code",
   "execution_count": 4,
   "id": "79d9a97f-e826-4321-ad81-981770e1fd00",
   "metadata": {},
   "outputs": [],
   "source": [
    "# @title Project { display-mode: \"form\" }\n",
    "PROJECT_ID = \"image-genai\"  # @param {type:\"string\"}"
   ]
  },
  {
   "cell_type": "code",
   "execution_count": 5,
   "id": "5e6ad60a-5f94-4fee-bdcf-cd90c9980d78",
   "metadata": {},
   "outputs": [],
   "source": [
    "from langchain_google_vertexai import VertexAIEmbeddings\n",
    "\n",
    "embedding = VertexAIEmbeddings(\n",
    "    model_name=\"textembedding-gecko@latest\", project=PROJECT_ID\n",
    ")"
   ]
  },
  {
   "cell_type": "code",
   "execution_count": 6,
   "id": "5040171e-2961-4110-b559-3f44ac023144",
   "metadata": {},
   "outputs": [
    {
     "data": {
      "text/plain": [
       "Dataset(DatasetReference('image-genai', 'my_langchain_dataset'))"
      ]
     },
     "execution_count": 6,
     "metadata": {},
     "output_type": "execute_result"
    }
   ],
   "source": [
    "from google.cloud import bigquery\n",
    "\n",
    "client = bigquery.Client(project=PROJECT_ID, location=REGION)\n",
    "client.create_dataset(dataset=DATASET, exists_ok=True)"
   ]
  },
  {
   "cell_type": "code",
   "execution_count": 16,
   "id": "93f39f52-311d-49f6-9540-66556bdcc56e",
   "metadata": {},
   "outputs": [],
   "source": [
    "from langchain.vectorstores.utils import DistanceStrategy\n",
    "from langchain_community.vectorstores import BigQueryVectorSearch\n",
    "\n",
    "store = BigQueryVectorSearch(\n",
    "    project_id=PROJECT_ID,\n",
    "    dataset_name=DATASET,\n",
    "    table_name=TABLE,\n",
    "    location=REGION,\n",
    "    embedding=embedding,\n",
    "    distance_strategy=DistanceStrategy.COSINE,\n",
    ")"
   ]
  },
  {
   "cell_type": "code",
   "execution_count": 17,
   "id": "e3c53284-4342-4227-80ca-3a09713563b4",
   "metadata": {},
   "outputs": [
    {
     "data": {
      "text/plain": [
       "['59c5cc3ab6564f9d842dd03cbd8a36dd',\n",
       " '0db1af769164464db52737b32776e379',\n",
       " '320472815b094fabb5bc0c7cc3e0009b',\n",
       " '251d24d5e0de4c40b54a8b730187ea52',\n",
       " 'e5a4f9d5d890459687be28d8f57a3d50',\n",
       " 'cfd94490528f42d488631b571fb76c68']"
      ]
     },
     "execution_count": 17,
     "metadata": {},
     "output_type": "execute_result"
    }
   ],
   "source": [
    "all_texts = [\"Apples\", \"oranges\", \"Cars and airplanes\", \"Pineapple\", \"Train\", \"Banana\"]\n",
    "metadatas = [{\"len\": len(t)} for t in all_texts]\n",
    "\n",
    "store.add_texts(all_texts, metadatas=metadatas)"
   ]
  },
  {
   "cell_type": "code",
   "execution_count": 19,
   "id": "a0ab6ca3-20fd-427b-8da0-2769c63ad6cf",
   "metadata": {},
   "outputs": [
    {
     "name": "stdout",
     "output_type": "stream",
     "text": [
      "[Document(page_content='Pineapple', metadata={'len': 9, '__id': '251d24d5e0de4c40b54a8b730187ea52'}), Document(page_content='Apples', metadata={'len': 6, '__id': '59c5cc3ab6564f9d842dd03cbd8a36dd'}), Document(page_content='Banana', metadata={'len': 6, '__id': 'cfd94490528f42d488631b571fb76c68'}), Document(page_content='oranges', metadata={'len': 7, '__id': '0db1af769164464db52737b32776e379'})]\n"
     ]
    }
   ],
   "source": [
    "query = \"I'd like a fruit.\"\n",
    "query_vector = embedding.embed_query(query)\n",
    "docs = store.similarity_search_by_vector(query_vector, k=4)\n",
    "print(docs)"
   ]
  }
 ],
 "metadata": {
  "kernelspec": {
   "display_name": "Python 3 (ipykernel)",
   "language": "python",
   "name": "python3"
  },
  "language_info": {
   "codemirror_mode": {
    "name": "ipython",
    "version": 3
   },
   "file_extension": ".py",
   "mimetype": "text/x-python",
   "name": "python",
   "nbconvert_exporter": "python",
   "pygments_lexer": "ipython3",
   "version": "3.10.0"
  }
 },
 "nbformat": 4,
 "nbformat_minor": 5
}
