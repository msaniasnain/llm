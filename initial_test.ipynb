{
 "cells": [
  {
   "cell_type": "code",
   "execution_count": 4,
   "id": "155ce626-d768-48eb-9508-a41328ef11cb",
   "metadata": {},
   "outputs": [],
   "source": [
    "from langchain.text_splitter import RecursiveCharacterTextSplitter"
   ]
  },
  {
   "cell_type": "code",
   "execution_count": 5,
   "id": "ad3ce537-e09d-42c4-9d57-d51dd1b2419a",
   "metadata": {},
   "outputs": [],
   "source": [
    "text_splitter = RecursiveCharacterTextSplitter(\n",
    "    # Set a really small chunk size, just to show.\n",
    "    chunk_size = 500,\n",
    "    chunk_overlap  = 1,\n",
    "    length_function = len,\n",
    "    is_separator_regex = False,\n",
    ")"
   ]
  },
  {
   "cell_type": "code",
   "execution_count": 6,
   "id": "d54bb7a9-7470-4801-939e-e8d17b40bc6a",
   "metadata": {},
   "outputs": [],
   "source": [
    "from langchain_community.document_loaders import PyPDFLoader"
   ]
  },
  {
   "cell_type": "code",
   "execution_count": 7,
   "id": "116f2307-826c-4e7d-ad08-c383f020ad4d",
   "metadata": {},
   "outputs": [],
   "source": [
    "loader = PyPDFLoader('1-Maharashtra Rent Control Act-1999.pdf')\n",
    "docs = loader.load_and_split()"
   ]
  },
  {
   "cell_type": "code",
   "execution_count": 8,
   "id": "3ed6247b-2157-4d0e-b782-3e7de52b3fb5",
   "metadata": {},
   "outputs": [],
   "source": [
    "texts = text_splitter.create_documents([each.page_content for each in docs])"
   ]
  },
  {
   "cell_type": "code",
   "execution_count": 9,
   "id": "481b3879-6a8a-4561-9296-b790bd9b1249",
   "metadata": {},
   "outputs": [
    {
     "data": {
      "text/plain": [
       "293"
      ]
     },
     "execution_count": 9,
     "metadata": {},
     "output_type": "execute_result"
    }
   ],
   "source": [
    "len(texts)"
   ]
  },
  {
   "cell_type": "code",
   "execution_count": 10,
   "id": "d18e21b7-8297-43ab-9797-f758dcf94f54",
   "metadata": {},
   "outputs": [],
   "source": [
    "# @title Region { display-mode: \"form\" }\n",
    "REGION = \"US\"  # @param {type: \"string\"}"
   ]
  },
  {
   "cell_type": "code",
   "execution_count": 11,
   "id": "c93b3b56-75f5-4713-817d-7d37f76b135e",
   "metadata": {},
   "outputs": [],
   "source": [
    "# @title Dataset and Table { display-mode: \"form\" }\n",
    "DATASET = \"vector_db\"  # @param {type: \"string\"}\n",
    "TABLE = \"vector_tbl\"  # @param {type: \"string\"}"
   ]
  },
  {
   "cell_type": "code",
   "execution_count": 12,
   "id": "95eeaa9c-103c-45f1-93f3-779636724402",
   "metadata": {},
   "outputs": [],
   "source": [
    "# @title Project { display-mode: \"form\" }\n",
    "PROJECT_ID = \"image-genai\"  # @param {type:\"string\"}"
   ]
  },
  {
   "cell_type": "code",
   "execution_count": 13,
   "id": "9b60d4aa-c39b-4430-9707-228dbb643303",
   "metadata": {},
   "outputs": [
    {
     "name": "stdout",
     "output_type": "stream",
     "text": [
      "WARNING:tensorflow:From C:\\Users\\msani\\AppData\\Local\\Programs\\Python\\Python310\\lib\\site-packages\\keras\\src\\losses.py:2976: The name tf.losses.sparse_softmax_cross_entropy is deprecated. Please use tf.compat.v1.losses.sparse_softmax_cross_entropy instead.\n",
      "\n"
     ]
    }
   ],
   "source": [
    "from langchain_google_vertexai import VertexAIEmbeddings\n",
    "\n",
    "embedding = VertexAIEmbeddings(\n",
    "    model_name=\"textembedding-gecko@latest\", project=PROJECT_ID\n",
    ")"
   ]
  },
  {
   "cell_type": "code",
   "execution_count": 14,
   "id": "457cb36e-82e6-45b4-af30-2977a2264a53",
   "metadata": {},
   "outputs": [
    {
     "data": {
      "text/plain": [
       "Dataset(DatasetReference('image-genai', 'vector_db'))"
      ]
     },
     "execution_count": 14,
     "metadata": {},
     "output_type": "execute_result"
    }
   ],
   "source": [
    "from google.cloud import bigquery\n",
    "\n",
    "client = bigquery.Client(project=PROJECT_ID, location=REGION)\n",
    "client.create_dataset(dataset=DATASET, exists_ok=True)"
   ]
  },
  {
   "cell_type": "code",
   "execution_count": 15,
   "id": "85e3dd15-7a46-473b-83bd-0bc4c171f625",
   "metadata": {},
   "outputs": [],
   "source": [
    "from langchain.vectorstores.utils import DistanceStrategy\n",
    "from langchain_community.vectorstores import BigQueryVectorSearch\n",
    "\n",
    "store = BigQueryVectorSearch(\n",
    "    project_id=PROJECT_ID,\n",
    "    dataset_name=DATASET,\n",
    "    table_name=TABLE,\n",
    "    location=REGION,\n",
    "    embedding=embedding,\n",
    "    distance_strategy=DistanceStrategy.COSINE,\n",
    ")"
   ]
  },
  {
   "cell_type": "code",
   "execution_count": 16,
   "id": "5a9743f8-3818-4341-b7bd-b94de9253100",
   "metadata": {},
   "outputs": [
    {
     "name": "stdout",
     "output_type": "stream",
     "text": [
      "293\n"
     ]
    }
   ],
   "source": [
    "data = [t.page_content for t in texts]\n",
    "metadatas = [{\"len\": len(t.page_content)} for t in texts]\n",
    "\n",
    "ids = store.add_texts(data, metadatas=metadatas)\n",
    "\n",
    "print(len(ids))"
   ]
  },
  {
   "cell_type": "code",
   "execution_count": 17,
   "id": "90a989c9-7e31-4f13-b42d-72e237eb2308",
   "metadata": {},
   "outputs": [
    {
     "name": "stdout",
     "output_type": "stream",
     "text": [
      "[Document(page_content='(b) this Act shall apply to any premises let for any or all purposes specified\\nin sub-section ( 1) in the areas other than those specified in Schedule I and\\nSchedule II.\\n3. (1) This Act shall not apply—\\n(a) to any premises belonging to the Government or a local authority or\\napply as against the Government to any tenancy, licence or other like relationship\\ncreated by a grant from or a licence given by the Government in respect of', metadata={'len': 432, '__id': 'fa37b863a77c4eb9bef5709be5d49db5'}), Document(page_content='46. Pending suits and proceedings in Courts.\\n47. Bar of Jurisdiction.\\n48. Section 18 to apply with modification.\\n49. Competent Authority to be deemed to be public servant.\\n50. All proceedings before Competent Authority to be judicial proceedings.\\n51. Competent Authority to be deemed to be Civil Court for certain purposes.\\n52. Protection of action taken under this Act.\\n53. Certain offences to be cognizable.\\n54. Offences by companies, etc.\\n55. Tenancy agreement to be compulsorily registered.', metadata={'len': 494, '__id': '40a676a4efa941d28737c84766db7062'}), Document(page_content='(3) It shall also apply to the premises let for the purposes specified in\\nsub-section ( 1) in such of the cities or towns as specified in Schedule II.\\n(4) Notwithstanding anything contained hereinabove, the State Government\\nmay, by notification in the Official Gazette , direct that—\\n(a) this Act shall not apply to any of the areas specified in Schedule I or\\nSchedule II or that it shall not apply to any one or all purposes specified in\\nsub-section ( 1);', metadata={'len': 456, '__id': 'b1895b310a9443da92f5d6620a23ff05'})]\n"
     ]
    }
   ],
   "source": [
    "query = \"Where is act being applied?\"\n",
    "query_vector = embedding.embed_query(query)\n",
    "docs = store.similarity_search_by_vector(query_vector, k=3)\n",
    "print(docs)"
   ]
  },
  {
   "cell_type": "code",
   "execution_count": 18,
   "id": "e7a9efaa-caeb-4420-b0e3-de8f42590951",
   "metadata": {},
   "outputs": [],
   "source": [
    "def augment_prompt(query: str):\n",
    "    query_vector = embedding.embed_query(query)\n",
    "    # get top 3 results from knowledge base\n",
    "    results = store.similarity_search_by_vector(query_vector, k=3)\n",
    "    # get the text from the results\n",
    "    source_knowledge = \"\\n\".join([x.page_content for x in results])\n",
    "    # feed into an augmented prompt\n",
    "    augmented_prompt = f\"\"\"Using the contexts below, answer the question in detail.\n",
    "\n",
    "    Contexts:\n",
    "    {source_knowledge}\n",
    "\n",
    "    Query: {query}\"\"\"\n",
    "    return augmented_prompt"
   ]
  },
  {
   "cell_type": "code",
   "execution_count": 19,
   "id": "1f4932f3-f127-42b4-ad6e-b6b671c845cd",
   "metadata": {},
   "outputs": [],
   "source": [
    "from vertexai.preview.generative_models import GenerativeModel\n",
    "import re\n",
    "\n",
    "def generate(query):\n",
    "    prompt = augment_prompt(query)\n",
    "    model = GenerativeModel(\"gemini-1.0-pro-vision-001\")\n",
    "    responses = model.generate_content(\n",
    "        prompt,\n",
    "        generation_config={\n",
    "            \"max_output_tokens\": 2048,\n",
    "            \"temperature\": 0.7,\n",
    "            \"top_p\": 1\n",
    "        },\n",
    "        stream=True,\n",
    "    )\n",
    "\n",
    "    res = []\n",
    "\n",
    "    for response in responses:\n",
    "        print(response.text, end=\"\")\n",
    "        "
   ]
  },
  {
   "cell_type": "code",
   "execution_count": null,
   "id": "58a3500a-a098-4c7e-b3a9-55e522d5a299",
   "metadata": {},
   "outputs": [],
   "source": [
    "generate(\"Where is act being applied?\")"
   ]
  },
  {
   "cell_type": "code",
   "execution_count": 43,
   "id": "60eec72b-916e-47fb-9d0b-7cdb5daa80c8",
   "metadata": {},
   "outputs": [
    {
     "name": "stdout",
     "output_type": "stream",
     "text": [
      "This act is about the control of rent and eviction and other connected matters in the repealed Acts."
     ]
    }
   ],
   "source": [
    "generate(\"What is this act about?\")"
   ]
  },
  {
   "cell_type": "code",
   "execution_count": 50,
   "id": "63a3dc3c-a46e-4d90-a3d2-34f248365f02",
   "metadata": {},
   "outputs": [],
   "source": [
    "query = '''1) Period: That the Licensor hereby grants to the Licensee herein a revocable leave and license,\n",
    "to occupy the Licensed Premises, described in Schedule I hereunder written without creating any\n",
    "tenancy rights or any other rights, title and interest in favour of the Licensee for a period of 11\n",
    "Months commencing from 10/04/2018 and ending on 09/03/2019'''"
   ]
  },
  {
   "cell_type": "code",
   "execution_count": 53,
   "id": "e5ef8454-08ba-4b21-afd3-91b2f4e56547",
   "metadata": {},
   "outputs": [
    {
     "name": "stdout",
     "output_type": "stream",
     "text": [
      "**Clause Meaning:**\n",
      "\n",
      "If the person who is allowed to live in a property (the licensee) does not leave the property when their permission to live there (the license) expires, the landlord can ask a special authority (the Competent Authority) to order the licensee to leave. the landlord can ask a special authority (the Competent Authority) to help them get the property back."
     ]
    }
   ],
   "source": [
    "generate(query)"
   ]
  },
  {
   "cell_type": "code",
   "execution_count": 54,
   "id": "7a2def7e-bde8-4b67-b026-5f9f986e867d",
   "metadata": {},
   "outputs": [],
   "source": [
    "query = '''2) License Fee & Deposit:That the Licensee shall pay to the Licensor License fee at the rate of\n",
    "Rs. 21000(Twenty-One Thousand Only) per month towards the compensation and Rs. 50000(Fifty\n",
    "Thousand Only) interest free refundable deposit, for the use of the said Licensed premises. The\n",
    "amount of monthly compensation License fee shall be payable within first five days of the\n",
    "concerned month of Leave and License.'''"
   ]
  },
  {
   "cell_type": "code",
   "execution_count": 55,
   "id": "75da5f3f-9766-4706-a983-abd91e9b2850",
   "metadata": {},
   "outputs": [
    {
     "name": "stdout",
     "output_type": "stream",
     "text": [
      "**Clause:** The Licensee shall pay to the Licensor License fee at the rate of Rs. 21000(Twenty-One Thousand Only) per month towards the compensation and Rs. 50000(Fifty Thousand Only) interest free refundable deposit, for the use of the said Licensed premises. The amount of monthly compensation License fee shall be payable within first five days of the concerned month of Leave and License.\n",
      "\n",
      "**Meaning:**\n",
      "\n",
      "The person who is renting the property (Licensee) must pay the owner of the property (Licensor) a monthly fee of Rs. 21,000 as compensation for using the property. They must also pay a refundable deposit of Rs. 50,000. The monthly fee must be paid within the first five days of each month. days of each month that the Licensee is using the property."
     ]
    }
   ],
   "source": [
    "generate(query)"
   ]
  },
  {
   "cell_type": "code",
   "execution_count": 56,
   "id": "0daa735f-d8dd-4c2e-b778-8e994b517621",
   "metadata": {},
   "outputs": [],
   "source": [
    "query = '''4) Maintenance Charges: That the all outgoings including all rates, taxes, levies, assessment,\n",
    "maintenance charges, non occupancy charges, etc. in respect of the said premises shall be paid\n",
    "by the Licensor.'''"
   ]
  },
  {
   "cell_type": "code",
   "execution_count": 57,
   "id": "f89e265c-1932-4a7b-9ffc-b14ce6bcb001",
   "metadata": {},
   "outputs": [
    {
     "name": "stdout",
     "output_type": "stream",
     "text": [
      "The clause means that the landlord is responsible for paying all the costs associated with the property, such as taxes, fees, and maintenance charges."
     ]
    }
   ],
   "source": [
    "generate(query)"
   ]
  },
  {
   "cell_type": "code",
   "execution_count": 71,
   "id": "61b2007e-b1f4-4e1d-8d43-7b0bb2c30825",
   "metadata": {},
   "outputs": [],
   "source": [
    "query = '''what are some actions I can take if this clause in breached? 6) Use: That the Licensed premises shall only be used by the Licensee for Residential\n",
    "purpose.The Licensee shall maintain the said premises in its existing condition and damage, if any,\n",
    "caused to the said premises, the same shall be repaired by the Licensee at its own cost subject to\n",
    "normal wear and tear. The Licensee shall not do anything in the said premises which is or is likely\n",
    "to cause a nuisance to the other occupants of the said building or to the prejudice in any manner to\n",
    "the rights of Licensor in respect of said premises or shall not do any unlawful activities prohibited\n",
    "by State or Central Government.'''"
   ]
  },
  {
   "cell_type": "code",
   "execution_count": 72,
   "id": "62310836-f971-47fe-9765-e6161028095d",
   "metadata": {},
   "outputs": [
    {
     "name": "stdout",
     "output_type": "stream",
     "text": [
      "Using the contexts below, answer the question.\n",
      "\n",
      "    Contexts:\n",
      "    tenant or, any person residing with the tenant has been guilty of conduct which is a \n",
      "nuisance or annoyance to the adjoining or neighbouring occupier, or has been convicted \n",
      "of using the premises or allowing the premises to be used for immoral or illegal pur poses \n",
      "or that the tenant has in respect of the premises been convicted of an offence of \n",
      "contravention of any of the provisions of clause (a) of sub-section (1) of section 394 or of\n",
      "Authority, on being satisfied that the period of licence has expired, shall pass an order  for \n",
      "eviction of a licensee. \n",
      "(2) Any licensee who does not deliver possession of the premises to the landlord on \n",
      "expiry of the period of licence and continues to be in possession of the licensed premises  \n",
      "till he is dispossessed by the Competent Authority shall be liable to pay damages a t \n",
      "double the rate of the licence fee or charge of the premises fixed under the agree ment of \n",
      "licence.\n",
      "Explanation.- For the purposes of this clause, replacing of tiles or closing of balc ony of \n",
      "the premises shall not be regarded as an act of a causing damage to the building or \n",
      "destructive or permanently injurious thereto; or  \n",
      "(b) that the tenant has, without the landlord's consent given in writing,  erected on the \n",
      "premises any permanent structure; \n",
      "Explanation.- For the purposes of this clause, the expression \"permanent structure\" does\n",
      "\n",
      "    Query: what are some actions I can take if this clause in breached? 6) Use: That the Licensed premises shall only be used by the Licensee for Residential\n",
      "purpose.The Licensee shall maintain the said premises in its existing condition and damage, if any,\n",
      "caused to the said premises, the same shall be repaired by the Licensee at its own cost subject to\n",
      "normal wear and tear. The Licensee shall not do anything in the said premises which is or is likely\n",
      "to cause a nuisance to the other occupants of the said building or to the prejudice in any manner to\n",
      "the rights of Licensor in respect of said premises or shall not do any unlawful activities prohibited\n",
      "by State or Central Government.\n"
     ]
    }
   ],
   "source": [
    "print(augment_prompt(query))"
   ]
  },
  {
   "cell_type": "code",
   "execution_count": 74,
   "id": "4cbf8bfb-3734-4ec5-b8fd-63a4ccfae50a",
   "metadata": {},
   "outputs": [
    {
     "name": "stdout",
     "output_type": "stream",
     "text": [
      "The provided context does not contain any information about actions that can be taken if the clause is breached. \"That the Licensed premises shall only be used by the Licensee for Residential purpose\" is breached."
     ]
    }
   ],
   "source": [
    "generate(query)"
   ]
  },
  {
   "cell_type": "code",
   "execution_count": 61,
   "id": "d99d82ca-779e-4eab-b909-f86e16c21815",
   "metadata": {},
   "outputs": [],
   "source": [
    "query = '''7) Alteration: That the Licensee shall not make or permit to do any alteration or addition to the\n",
    "construction or arrangements (internal or external) to the Licensed premises without previous\n",
    "consent in writing from the Licensor.\n",
    "8) No Tenancy: That the Licensee shall not claim any tenancy right and shall not have any right to\n",
    "transfer, assign, and sublet or grant any license or sub-license in respect of the Licensed Premises\n",
    "or any part thereof and also shall not mortgage or raise any loan against the said premises.\n",
    "LEAVE AND LICENSE AGREEMENT\n",
    "\n",
    "Registered as Document No.5604/2018 at the Joint S.R. Haveli 14 on 20/04/2018 Page 2 of 6\n",
    "\n",
    "9) Inspection: That, the Licensor shall on reasonable notice given by the Licensor to the Licensee\n",
    "shall have a right of access either by himself / herself / themselves or through authorized\n",
    "representative to enter, view and inspect the Licensed premises at reasonable intervals.\n",
    "10) Cancellation: That, Subject to the condition of lock in period (if any), if the Licensee commits\n",
    "default in regular and punctual payments of monthly compensation as herein before mentioned or\n",
    "commit/s breach of any of the terms, covenants and conditions of this agreement or if any\n",
    "legislation prohibiting the Leave and License is imposed, the Licensor shall be entitled to revoke\n",
    "and / or cancel the License hereby granted, by giving notice in writing of one month and the\n",
    "Licensee too will have the right to vacate the said premises by giving a notice in writing of one\n",
    "month to the Licensor as mentioned earlier.'''"
   ]
  },
  {
   "cell_type": "code",
   "execution_count": 62,
   "id": "99fe9bd9-73d6-4a60-93d7-aea03fa82b1f",
   "metadata": {},
   "outputs": [
    {
     "name": "stdout",
     "output_type": "stream",
     "text": [
      "**Clause 7:** The licensee cannot make any changes to the building or its layout without the landlord's written permission.\n",
      "\n",
      "**Clause 8:** The licensee does not have any rights as a tenant and cannot rent out, sell, or mortgage the property. to anyone else. They also cannot borrow money against the property.\n",
      "\n",
      "**Clause 9:** The landlord can visit the property at reasonable times to check on it.\n",
      "\n",
      "**Clause 10:** If the licensee breaks any of the rules in the agreement or doesn't pay the rent on time, the landlord can cancel the agreement and ask the licensee to leave. The licensee can also give one month's notice to leave the property."
     ]
    }
   ],
   "source": [
    "generate(query)"
   ]
  },
  {
   "cell_type": "code",
   "execution_count": 80,
   "id": "afc7a811-4825-414c-b2d0-f20e08e14204",
   "metadata": {},
   "outputs": [],
   "source": [
    "query = \"what are some actions I can take as a landlord?\""
   ]
  },
  {
   "cell_type": "code",
   "execution_count": 81,
   "id": "74c3eb87-a98b-4381-a259-10b718c92a9e",
   "metadata": {},
   "outputs": [
    {
     "name": "stdout",
     "output_type": "stream",
     "text": [
      "- Make an order that the tenant or any such person as aforesaid shall place the landlord in vacant possession of such premises or part thereof\n",
      "- Proceed to take action under section 45\n",
      "- Give notice to the landlord of the enquiry to be made in the application under sub-section (3) or during the pendency of such enquiry"
     ]
    }
   ],
   "source": [
    "generate(query)"
   ]
  },
  {
   "cell_type": "code",
   "execution_count": 84,
   "id": "e442d05f-f90b-41fc-9842-036741842872",
   "metadata": {},
   "outputs": [],
   "source": [
    "query = \"what are some powers of the landlord as per this law?\""
   ]
  },
  {
   "cell_type": "code",
   "execution_count": 85,
   "id": "e824ba63-154b-45b9-93c9-6c1bacd3f44c",
   "metadata": {},
   "outputs": [
    {
     "name": "stdout",
     "output_type": "stream",
     "text": [
      "The provided text does not specify any powers of the landlord."
     ]
    }
   ],
   "source": [
    "generate(query)"
   ]
  },
  {
   "cell_type": "code",
   "execution_count": 96,
   "id": "831a3e8f-21e6-4959-ac1c-8862a9afeb4d",
   "metadata": {},
   "outputs": [],
   "source": [
    "query = \"is it compulsory to register the agreement?\""
   ]
  },
  {
   "cell_type": "code",
   "execution_count": 97,
   "id": "76af3fa9-b814-42ba-8969-9bf9a347b216",
   "metadata": {},
   "outputs": [
    {
     "name": "stdout",
     "output_type": "stream",
     "text": [
      "Yes, it is compulsory to register the agreement.\n",
      "\n",
      "According to the context, \"The responsibility of getting such agreement registered shall be on the landlord and in the absence of the written registered agreement, the contention of the tenant about the terms and conditions subject to which premises have been given to him by the landlord on leave and licence or have been let to him, shall prevail, unless proved otherwise.\""
     ]
    }
   ],
   "source": [
    "generate(query)"
   ]
  },
  {
   "cell_type": "code",
   "execution_count": 92,
   "id": "c04d2e91-e29d-471d-93c3-550c005293b8",
   "metadata": {},
   "outputs": [],
   "source": [
    "query = \"what are my rights under this act as an landlord?\""
   ]
  },
  {
   "cell_type": "code",
   "execution_count": 95,
   "id": "3f3b3d70-1254-4fa2-abbb-451103ab0636",
   "metadata": {},
   "outputs": [
    {
     "name": "stdout",
     "output_type": "stream",
     "text": [
      "The provided text does not specify the rights of a landlord under this act. mentioned act. Therefore, I cannot answer the question."
     ]
    }
   ],
   "source": [
    "generate(query)"
   ]
  },
  {
   "cell_type": "code",
   "execution_count": 98,
   "id": "4f39a85f-5f62-4e31-92c6-0175297dd465",
   "metadata": {},
   "outputs": [],
   "source": [
    "query = \"for how long can I make the agreement for?\""
   ]
  },
  {
   "cell_type": "code",
   "execution_count": 99,
   "id": "cd5ee6d2-7e6d-41a1-902a-151ef2e1f644",
   "metadata": {},
   "outputs": [
    {
     "name": "stdout",
     "output_type": "stream",
     "text": [
      "The provided contexts do not contain any information on the duration for which an agreement can be made. Therefore, I cannot answer this question from the provided context."
     ]
    }
   ],
   "source": [
    "generate(query)"
   ]
  },
  {
   "cell_type": "code",
   "execution_count": 100,
   "id": "449aed27-75fe-4754-aaad-34a7b0154d66",
   "metadata": {},
   "outputs": [
    {
     "data": {
      "text/plain": [
       "\"Using the contexts below, answer the question in detail.\\n\\n    Contexts:\\n    commencement of this Act, shall be in writing and shall be registered under the \\nRegistration Act, 1908. \\n(2) The responsibility of getting such agreement registered shall be on the landl ord and in \\nthe absence of the written registered agreement, the contention of the tenant about  the \\nterms and conditions subject to which a premises have been given to him by the landlord \\non leave and licence or have been let to him, shall prevail, unless proved otherwise.\\nthe landlord rent for one month. If the tenant gives such intimation and makes the \\ndeposit, the landlord shall, on completion of the work of repairs, place the tenant in \\noccupation of the premises or part thereof on the terms and conditions existing on the \\ndate of the passing of the decree for eviction. If the tenant fails to give suc h intimation \\nand to make the deposit, the tenant's right to occupy the premises shall terminate .\\n(2) If the tenant delivers possession on or before the date specified in the decree, t he \\nlandlord shall, two months before the date on which the work of repairs is likely to be \\ncompleted, give notice to the tenant of the date on which the said work shall be \\ncompleted. Within thirty days from the date of receipt of such notice the tenant sha ll \\nintimate to the landlord his acceptance of the accommodation offered and deposit w ith\\n\\n    Query: for how long can I make the agreement for?\""
      ]
     },
     "execution_count": 100,
     "metadata": {},
     "output_type": "execute_result"
    }
   ],
   "source": [
    "augment_prompt(query)"
   ]
  }
 ],
 "metadata": {
  "kernelspec": {
   "display_name": "Python 3 (ipykernel)",
   "language": "python",
   "name": "python3"
  },
  "language_info": {
   "codemirror_mode": {
    "name": "ipython",
    "version": 3
   },
   "file_extension": ".py",
   "mimetype": "text/x-python",
   "name": "python",
   "nbconvert_exporter": "python",
   "pygments_lexer": "ipython3",
   "version": "3.10.0"
  }
 },
 "nbformat": 4,
 "nbformat_minor": 5
}
