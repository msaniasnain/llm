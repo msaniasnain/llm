{
 "cells": [
  {
   "cell_type": "code",
   "execution_count": 1,
   "metadata": {},
   "outputs": [
    {
     "name": "stdout",
     "output_type": "stream",
     "text": [
      "WARNING:tensorflow:From c:\\Users\\msani\\AppData\\Local\\Programs\\Python\\Python310\\lib\\site-packages\\keras\\src\\losses.py:2976: The name tf.losses.sparse_softmax_cross_entropy is deprecated. Please use tf.compat.v1.losses.sparse_softmax_cross_entropy instead.\n",
      "\n"
     ]
    }
   ],
   "source": [
    "from langchain.text_splitter import RecursiveCharacterTextSplitter\n",
    "from langchain_community.document_loaders import PyPDFLoader\n",
    "from langchain_google_vertexai import VertexAIEmbeddings\n",
    "from langchain.vectorstores.utils import DistanceStrategy\n",
    "from langchain_community.vectorstores import BigQueryVectorSearch\n",
    "\n",
    "from google.cloud import bigquery\n",
    "from vertexai.preview.generative_models import GenerativeModel\n",
    "\n",
    "import re"
   ]
  },
  {
   "cell_type": "code",
   "execution_count": 2,
   "metadata": {},
   "outputs": [],
   "source": [
    "loader = PyPDFLoader('ontario_rent_act.pdf')\n",
    "docs = loader.load_and_split()"
   ]
  },
  {
   "cell_type": "code",
   "execution_count": 6,
   "metadata": {},
   "outputs": [
    {
     "data": {
      "text/plain": [
       "158"
      ]
     },
     "execution_count": 6,
     "metadata": {},
     "output_type": "execute_result"
    }
   ],
   "source": [
    "len(docs)"
   ]
  },
  {
   "cell_type": "code",
   "execution_count": 15,
   "metadata": {},
   "outputs": [],
   "source": [
    "text_splitter = RecursiveCharacterTextSplitter(\n",
    "    # Set a really small chunk size, just to show.\n",
    "    chunk_size = 1000,\n",
    "    chunk_overlap  = 10,\n",
    "    length_function = len,\n",
    "    is_separator_regex = False,\n",
    ")"
   ]
  },
  {
   "cell_type": "code",
   "execution_count": 8,
   "metadata": {},
   "outputs": [],
   "source": [
    "texts = text_splitter.create_documents([each.page_content for each in docs])"
   ]
  },
  {
   "cell_type": "code",
   "execution_count": 16,
   "metadata": {},
   "outputs": [
    {
     "data": {
      "text/plain": [
       "585"
      ]
     },
     "execution_count": 16,
     "metadata": {},
     "output_type": "execute_result"
    }
   ],
   "source": [
    "len(texts)"
   ]
  },
  {
   "cell_type": "code",
   "execution_count": 21,
   "metadata": {},
   "outputs": [],
   "source": [
    "REGION = \"US\" \n",
    "DATASET = \"vector_db\"\n",
    "TABLE = \"on_vector_tbl\"\n",
    "PROJECT_ID = \"image-genai\"\n"
   ]
  },
  {
   "cell_type": "code",
   "execution_count": 19,
   "metadata": {},
   "outputs": [],
   "source": [
    "embedding = VertexAIEmbeddings(\n",
    "    model_name=\"textembedding-gecko@latest\", project=PROJECT_ID\n",
    ")"
   ]
  },
  {
   "cell_type": "code",
   "execution_count": 20,
   "metadata": {},
   "outputs": [
    {
     "data": {
      "text/plain": [
       "Dataset(DatasetReference('image-genai', 'vector_db'))"
      ]
     },
     "execution_count": 20,
     "metadata": {},
     "output_type": "execute_result"
    }
   ],
   "source": [
    "client = bigquery.Client(project=PROJECT_ID, location=REGION)\n",
    "client.create_dataset(dataset=DATASET, exists_ok=True)"
   ]
  },
  {
   "cell_type": "code",
   "execution_count": 22,
   "metadata": {},
   "outputs": [],
   "source": [
    "store = BigQueryVectorSearch(\n",
    "    project_id=PROJECT_ID,\n",
    "    dataset_name=DATASET,\n",
    "    table_name=TABLE,\n",
    "    location=REGION,\n",
    "    embedding=embedding,\n",
    "    distance_strategy=DistanceStrategy.COSINE,\n",
    ")"
   ]
  },
  {
   "cell_type": "code",
   "execution_count": 23,
   "metadata": {},
   "outputs": [
    {
     "name": "stdout",
     "output_type": "stream",
     "text": [
      "585\n"
     ]
    }
   ],
   "source": [
    "data = [t.page_content for t in texts]\n",
    "metadatas = [{\"len\": len(t.page_content)} for t in texts]\n",
    "\n",
    "ids = store.add_texts(data, metadatas=metadatas)\n",
    "\n",
    "print(len(ids))"
   ]
  },
  {
   "cell_type": "code",
   "execution_count": 24,
   "metadata": {},
   "outputs": [
    {
     "name": "stdout",
     "output_type": "stream",
     "text": [
      "[Document(page_content='Provisions conflicting with Act void  \\n4 (1)  Subject to subsection 12.1 (11) and section 194 , a provision in a tenancy agreement that is inconsistent with this Act or \\nthe regul ations is void.  2006, c.  17, s.  4; 2017, c. 13, s. 1.  \\nSame, Part V.1  \\n(2)  Subject to section 194 , in any proceeding under Part V.1, a provision in an occupancy agreement in respect of a me mber \\nunit or a provision in a by -law of a non -profit housing co -operative that is inconsistent with Part V.1, or with a provision in \\nanother Part of this Act that applies to non -profit housing co -operatives and member units, does not apply, and the prov ision \\nin this Act applies.  2013, c.  3, s. 23.  \\nSection Amendments with date in force  (d/m/y)  \\n2013, c. 3, s. 23  - 01/06/2014  \\n2017, c. 13, s. 1  - 30/05/2017  \\nExemptions from Act  \\n5 This Act does not apply with respect to,  \\n (a) living accommodation intended to be provided to the travelling or vacationing public or occupied for a seasonal or', metadata={'len': 992, '__id': 'fb8f3d7a40db4d198ebb052be993176a'}), Document(page_content='198 (1)  Despite the Statutory Powers Procedure Act , the Board may direct that two or more applications be joined or heard \\ntogether if the Board believes it would be fair to determine the issues raised by them together.  2006, c.  17, s.  198 (1). \\nApplications severed  \\n(2)  The Board may order that applications that have been joined be severed or that applications that had been ordered to be \\nheard together be heard separately.  2006, c.  17, s.  198 (2). \\nApplication severed  \\n199 The Board may order that an application be severed and each severed part dealt with as though it were a separate \\napplication under this Act if,  \\n (a) two or more applications are combined under se ction 186 in the application;  \\n (b) the application is made by more than one tenant under subsection 186 (2); or', metadata={'len': 803, '__id': 'fbd3d76dcc6641ea8f52490e5eb90ed4'}), Document(page_content='Same  \\n(2)  A regulation made under subsection (1) may govern the application of provisions of this Act to proceedings before a \\ncourt or the Board in which a claim is made relating to amendments to this Act made by Schedule 7 to the Helping Tenants', metadata={'len': 249, '__id': 'd641d8a870334b86817472c534061049'})]\n"
     ]
    }
   ],
   "source": [
    "query = \"Where is act being applied?\"\n",
    "query_vector = embedding.embed_query(query)\n",
    "docs = store.similarity_search_by_vector(query_vector, k=3)\n",
    "print(docs)"
   ]
  },
  {
   "cell_type": "code",
   "execution_count": 25,
   "metadata": {},
   "outputs": [],
   "source": [
    "def augment_prompt(query: str):\n",
    "    query_vector = embedding.embed_query(query)\n",
    "    # get top 3 results from knowledge base\n",
    "    results = store.similarity_search_by_vector(query_vector, k=3)\n",
    "    # get the text from the results\n",
    "    source_knowledge = \"\\n\".join([x.page_content for x in results])\n",
    "    # feed into an augmented prompt\n",
    "    augmented_prompt = f\"\"\"Using the contexts below, answer the question in detail.\n",
    "\n",
    "    Contexts:\n",
    "    {source_knowledge}\n",
    "\n",
    "    Query: {query}\"\"\"\n",
    "    return augmented_prompt"
   ]
  },
  {
   "cell_type": "code",
   "execution_count": 39,
   "metadata": {},
   "outputs": [],
   "source": [
    "def generate(query):\n",
    "    prompt = augment_prompt(query)\n",
    "    model = GenerativeModel(\"gemini-1.0-pro-vision-001\")\n",
    "    responses = model.generate_content(\n",
    "        prompt,\n",
    "        generation_config={\n",
    "            \"max_output_tokens\": 2048,\n",
    "            \"temperature\": 0.7,\n",
    "            \"top_p\": 1\n",
    "        },\n",
    "        stream=False,\n",
    "    )\n",
    "\n",
    "    res = []\n",
    "    print(responses.text)\n",
    "\n",
    "    # for response in responses:\n",
    "    #     print(response)\n",
    "    #     # print(response.text, end=\"\")"
   ]
  },
  {
   "cell_type": "code",
   "execution_count": 27,
   "metadata": {},
   "outputs": [
    {
     "name": "stdout",
     "output_type": "stream",
     "text": [
      "The act applies to tenancy agreements and occupancy agreements in respect of member units or non-profit housing co-operatives."
     ]
    }
   ],
   "source": [
    "generate(\"Where is act being applied?\")"
   ]
  },
  {
   "cell_type": "code",
   "execution_count": 28,
   "metadata": {},
   "outputs": [
    {
     "name": "stdout",
     "output_type": "stream",
     "text": [
      "Based on the provided contexts, this Act primarily focuses on matters related to residential tenancies, including the establishment of rules and regulations governing the relationships between landlords and tenants. It covers various aspects of tenancy, such as the selection of tenants, provision of information by landlords, terms of tenancy agreements, resolution of disputes, and the rights and responsibilities of both parties. The Act aims to protect the interests of both landlords and tenants and ensure fair and equitable practices in residential rental arrangements."
     ]
    }
   ],
   "source": [
    "generate(\"What is this act about?\")"
   ]
  },
  {
   "cell_type": "code",
   "execution_count": 40,
   "metadata": {},
   "outputs": [
    {
     "name": "stdout",
     "output_type": "stream",
     "text": [
      "Based on the provided contexts, it seems that tenants are benefitting from this act. The act provides remedies for tenants who have been induced by the landlord to vacate the rental unit, including compensation for increased rent and reasonable moving expenses. The act also places the onus on the landlord to prove that the tenant is not entitled to the remedies provided by the act.\n"
     ]
    }
   ],
   "source": [
    "generate(\"Who seems to be benefitting from this act, landlord or the tenants?\")"
   ]
  },
  {
   "cell_type": "code",
   "execution_count": 41,
   "metadata": {},
   "outputs": [
    {
     "name": "stdout",
     "output_type": "stream",
     "text": [
      "**Key Rights to Protect Yourself as a Tenant:**\n",
      "\n",
      "* **Landlord's Responsibility to Repair:** Landlords are responsible for maintaining the rental unit in a habitable condition, including repairing any necessary fixtures or appliances. (Section 20)\n",
      "\n",
      "* **Landlord's Responsibility for Services:** Landlords are responsible for providing essential services such as heat, water, and electricity. (Section 21)\n",
      "\n",
      "* **Landlord Not to Interfere with Reasonable Enjoyment:** Landlords cannot unreasonably interfere with your use and enjoyment of the rental unit. (Section 22)\n",
      "\n",
      "* **Landlord Not to Harass, etc.:** Landlords are prohibited from harassing, obstructing, or coercing tenants. (Section 23)\n",
      "\n",
      "* **Privacy:** Landlords cannot enter the rental unit without notice, except in emergency situations. (Section 25)\n",
      "\n",
      "* **Entry with Notice:** Landlords must provide reasonable notice before entering the rental unit for repairs or other necessary purposes. (Section 27)\n",
      "\n",
      "* **Eviction with Termination Order:** Landlords can only evict tenants with a valid termination order issued by the Landlord and Tenant Board. (Section 32)\n",
      "\n",
      "**Additional Protection:**\n",
      "\n",
      "* **Tenancy Agreements:** Landlords must provide tenants with information about their rights and responsibilities before entering into a tenancy agreement. (Section 11)\n",
      "\n",
      "* **Tenant Applications:** Tenants can apply to the Landlord and Tenant Board if they believe their landlord has breached any of their obligations. (Section 29)\n"
     ]
    }
   ],
   "source": [
    "generate(\"What are some key rights which with I can protect myself as a tenant\")"
   ]
  },
  {
   "cell_type": "code",
   "execution_count": null,
   "metadata": {},
   "outputs": [],
   "source": []
  }
 ],
 "metadata": {
  "kernelspec": {
   "display_name": "Python 3",
   "language": "python",
   "name": "python3"
  },
  "language_info": {
   "codemirror_mode": {
    "name": "ipython",
    "version": 3
   },
   "file_extension": ".py",
   "mimetype": "text/x-python",
   "name": "python",
   "nbconvert_exporter": "python",
   "pygments_lexer": "ipython3",
   "version": "3.10.0"
  }
 },
 "nbformat": 4,
 "nbformat_minor": 2
}
